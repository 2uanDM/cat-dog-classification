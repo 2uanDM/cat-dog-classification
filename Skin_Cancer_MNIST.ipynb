{
  "cells": [
    {
      "cell_type": "markdown",
      "metadata": {
        "id": "view-in-github",
        "colab_type": "text"
      },
      "source": [
        "<a href=\"https://colab.research.google.com/github/datvodinh10/Skin-Cancer-MNIST/blob/main/Skin_Cancer_MNIST.ipynb\" target=\"_parent\"><img src=\"https://colab.research.google.com/assets/colab-badge.svg\" alt=\"Open In Colab\"/></a>"
      ]
    },
    {
      "cell_type": "markdown",
      "source": [
        "## Clone and Import data"
      ],
      "metadata": {
        "id": "cgnbySSrLWbZ"
      }
    },
    {
      "cell_type": "code",
      "source": [
        "!git clone https://github.com/datvodinh10/Skin-Cancer-MNIST.git"
      ],
      "metadata": {
        "colab": {
          "base_uri": "https://localhost:8080/"
        },
        "id": "tFMZ6gqwI8k3",
        "outputId": "ab748a33-3bfc-45ca-a491-eed133299a8b"
      },
      "execution_count": 1,
      "outputs": [
        {
          "output_type": "stream",
          "name": "stdout",
          "text": [
            "Cloning into 'Skin-Cancer-MNIST'...\n",
            "remote: Enumerating objects: 71, done.\u001b[K\n",
            "remote: Counting objects: 100% (1/1), done.\u001b[K\n",
            "remote: Total 71 (delta 0), reused 0 (delta 0), pack-reused 70\u001b[K\n",
            "Unpacking objects: 100% (71/71), 33.32 MiB | 3.74 MiB/s, done.\n",
            "Updating files: 100% (14/14), done.\n"
          ]
        }
      ]
    },
    {
      "cell_type": "code",
      "source": [
        "! pip -q install kaggle"
      ],
      "metadata": {
        "id": "uSLO6dABKdBB"
      },
      "execution_count": null,
      "outputs": []
    },
    {
      "cell_type": "code",
      "source": [
        "!rm -r ~/.kaggle\n",
        "!mkdir ~/.kaggle\n",
        "!mv /content/Skin-Cancer-MNIST/kaggle.json ~/.kaggle/\n",
        "!chmod 600 ~/.kaggle/kaggle.json"
      ],
      "metadata": {
        "id": "Q-nVsaEXKnJg",
        "outputId": "a6385486-39ea-45bc-df8e-4d5fee922082",
        "colab": {
          "base_uri": "https://localhost:8080/"
        }
      },
      "execution_count": 3,
      "outputs": [
        {
          "output_type": "stream",
          "name": "stdout",
          "text": [
            "rm: cannot remove '/root/.kaggle': No such file or directory\n"
          ]
        }
      ]
    },
    {
      "cell_type": "code",
      "source": [
        "!kaggle datasets download -d kmader/skin-cancer-mnist-ham10000"
      ],
      "metadata": {
        "id": "Oq9BSysyKqAB",
        "outputId": "b9cbe510-8d6b-4c19-fa46-3b5a6b33311a",
        "colab": {
          "base_uri": "https://localhost:8080/"
        }
      },
      "execution_count": 4,
      "outputs": [
        {
          "output_type": "stream",
          "name": "stdout",
          "text": [
            "Downloading skin-cancer-mnist-ham10000.zip to /content\n",
            "100% 5.20G/5.20G [03:03<00:00, 32.4MB/s]\n",
            "100% 5.20G/5.20G [03:03<00:00, 30.4MB/s]\n"
          ]
        }
      ]
    },
    {
      "cell_type": "code",
      "source": [
        "import zipfile"
      ],
      "metadata": {
        "id": "-kPlL7VSLhNk"
      },
      "execution_count": 5,
      "outputs": []
    },
    {
      "cell_type": "code",
      "source": [
        "!unzip -q /content/skin-cancer-mnist-ham10000.zip"
      ],
      "metadata": {
        "id": "gqZF_gGlLh_j"
      },
      "execution_count": 6,
      "outputs": []
    },
    {
      "cell_type": "markdown",
      "metadata": {
        "id": "XDoFxzvnI1Pe"
      },
      "source": [
        "## Import"
      ]
    },
    {
      "cell_type": "code",
      "execution_count": 82,
      "metadata": {
        "id": "cKphAf8dI1Pi"
      },
      "outputs": [],
      "source": [
        "from tqdm import tqdm\n",
        "from glob import glob\n",
        "from PIL import Image\n",
        "import os\n",
        "\n",
        "from sklearn.model_selection import train_test_split\n",
        "from sklearn.preprocessing import StandardScaler,OneHotEncoder\n",
        "from imblearn.over_sampling import RandomOverSampler\n",
        "from sklearn.utils.class_weight import compute_class_weight\n",
        "\n",
        "import torch\n",
        "import numpy as np\n",
        "import matplotlib.pyplot as plt\n",
        "import pandas as pd\n",
        "import torch.nn as nn\n",
        "from torchvision import transforms\n",
        "from torch.utils.data import DataLoader"
      ]
    },
    {
      "cell_type": "markdown",
      "source": [
        "## Preprocessing data"
      ],
      "metadata": {
        "id": "PHKMus8RRBNo"
      }
    },
    {
      "cell_type": "code",
      "source": [
        "data_dir = './'\n",
        "all_image_path = glob(os.path.join(data_dir, '*', '*.jpg'))\n",
        "imageid_path_dict = {os.path.splitext(os.path.basename(x))[0]: x for x in all_image_path}"
      ],
      "metadata": {
        "id": "36mjrrddRHzn"
      },
      "execution_count": 30,
      "outputs": []
    },
    {
      "cell_type": "code",
      "execution_count": 31,
      "metadata": {
        "id": "JgLL2M54I1Pm"
      },
      "outputs": [],
      "source": [
        "classes = {\n",
        "    'nv': 'Melanocytic nevi',\n",
        "    'mel': 'dermatofibroma',\n",
        "    'bkl': 'Benign keratosis-like lesions ',\n",
        "    'bcc': 'Basal cell carcinoma',\n",
        "    'akiec': 'Actinic keratoses',\n",
        "    'vasc': 'Vascular lesions',\n",
        "    'df': 'Dermatofibroma'\n",
        "}"
      ]
    },
    {
      "cell_type": "code",
      "source": [
        "df_metadata = pd.read_csv(os.path.join(data_dir, 'HAM10000_metadata.csv'))\n",
        "df_metadata['path'] = df_metadata['image_id'].map(imageid_path_dict.get)\n",
        "df_metadata['cell_type'] = df_metadata['dx'].map(classes.get)\n",
        "df_metadata['cell_type_idx'] = pd.Categorical(df_metadata['cell_type']).codes\n",
        "df_metadata.sample(3)"
      ],
      "metadata": {
        "id": "GnhyvJWcRYCj",
        "outputId": "88ee6259-b1d1-44db-8e6d-c1d6eaaef566",
        "colab": {
          "base_uri": "https://localhost:8080/",
          "height": 143
        }
      },
      "execution_count": 32,
      "outputs": [
        {
          "output_type": "execute_result",
          "data": {
            "text/plain": [
              "        lesion_id      image_id  dx    dx_type   age      sex localization  \\\n",
              "8423  HAM_0004839  ISIC_0028450  nv      histo  55.0     male         back   \n",
              "9619  HAM_0003998  ISIC_0033809  nv  consensus   NaN  unknown      unknown   \n",
              "4279  HAM_0002389  ISIC_0026701  nv  follow_up  50.0     male        trunk   \n",
              "\n",
              "                                           path         cell_type  \\\n",
              "8423  ./ham10000_images_part_1/ISIC_0028450.jpg  Melanocytic nevi   \n",
              "9619  ./ham10000_images_part_2/ISIC_0033809.jpg  Melanocytic nevi   \n",
              "4279  ./ham10000_images_part_1/ISIC_0026701.jpg  Melanocytic nevi   \n",
              "\n",
              "      cell_type_idx  \n",
              "8423              4  \n",
              "9619              4  \n",
              "4279              4  "
            ],
            "text/html": [
              "\n",
              "  <div id=\"df-106359a4-f1e8-457b-b3af-27bd1fded672\">\n",
              "    <div class=\"colab-df-container\">\n",
              "      <div>\n",
              "<style scoped>\n",
              "    .dataframe tbody tr th:only-of-type {\n",
              "        vertical-align: middle;\n",
              "    }\n",
              "\n",
              "    .dataframe tbody tr th {\n",
              "        vertical-align: top;\n",
              "    }\n",
              "\n",
              "    .dataframe thead th {\n",
              "        text-align: right;\n",
              "    }\n",
              "</style>\n",
              "<table border=\"1\" class=\"dataframe\">\n",
              "  <thead>\n",
              "    <tr style=\"text-align: right;\">\n",
              "      <th></th>\n",
              "      <th>lesion_id</th>\n",
              "      <th>image_id</th>\n",
              "      <th>dx</th>\n",
              "      <th>dx_type</th>\n",
              "      <th>age</th>\n",
              "      <th>sex</th>\n",
              "      <th>localization</th>\n",
              "      <th>path</th>\n",
              "      <th>cell_type</th>\n",
              "      <th>cell_type_idx</th>\n",
              "    </tr>\n",
              "  </thead>\n",
              "  <tbody>\n",
              "    <tr>\n",
              "      <th>8423</th>\n",
              "      <td>HAM_0004839</td>\n",
              "      <td>ISIC_0028450</td>\n",
              "      <td>nv</td>\n",
              "      <td>histo</td>\n",
              "      <td>55.0</td>\n",
              "      <td>male</td>\n",
              "      <td>back</td>\n",
              "      <td>./ham10000_images_part_1/ISIC_0028450.jpg</td>\n",
              "      <td>Melanocytic nevi</td>\n",
              "      <td>4</td>\n",
              "    </tr>\n",
              "    <tr>\n",
              "      <th>9619</th>\n",
              "      <td>HAM_0003998</td>\n",
              "      <td>ISIC_0033809</td>\n",
              "      <td>nv</td>\n",
              "      <td>consensus</td>\n",
              "      <td>NaN</td>\n",
              "      <td>unknown</td>\n",
              "      <td>unknown</td>\n",
              "      <td>./ham10000_images_part_2/ISIC_0033809.jpg</td>\n",
              "      <td>Melanocytic nevi</td>\n",
              "      <td>4</td>\n",
              "    </tr>\n",
              "    <tr>\n",
              "      <th>4279</th>\n",
              "      <td>HAM_0002389</td>\n",
              "      <td>ISIC_0026701</td>\n",
              "      <td>nv</td>\n",
              "      <td>follow_up</td>\n",
              "      <td>50.0</td>\n",
              "      <td>male</td>\n",
              "      <td>trunk</td>\n",
              "      <td>./ham10000_images_part_1/ISIC_0026701.jpg</td>\n",
              "      <td>Melanocytic nevi</td>\n",
              "      <td>4</td>\n",
              "    </tr>\n",
              "  </tbody>\n",
              "</table>\n",
              "</div>\n",
              "      <button class=\"colab-df-convert\" onclick=\"convertToInteractive('df-106359a4-f1e8-457b-b3af-27bd1fded672')\"\n",
              "              title=\"Convert this dataframe to an interactive table.\"\n",
              "              style=\"display:none;\">\n",
              "        \n",
              "  <svg xmlns=\"http://www.w3.org/2000/svg\" height=\"24px\"viewBox=\"0 0 24 24\"\n",
              "       width=\"24px\">\n",
              "    <path d=\"M0 0h24v24H0V0z\" fill=\"none\"/>\n",
              "    <path d=\"M18.56 5.44l.94 2.06.94-2.06 2.06-.94-2.06-.94-.94-2.06-.94 2.06-2.06.94zm-11 1L8.5 8.5l.94-2.06 2.06-.94-2.06-.94L8.5 2.5l-.94 2.06-2.06.94zm10 10l.94 2.06.94-2.06 2.06-.94-2.06-.94-.94-2.06-.94 2.06-2.06.94z\"/><path d=\"M17.41 7.96l-1.37-1.37c-.4-.4-.92-.59-1.43-.59-.52 0-1.04.2-1.43.59L10.3 9.45l-7.72 7.72c-.78.78-.78 2.05 0 2.83L4 21.41c.39.39.9.59 1.41.59.51 0 1.02-.2 1.41-.59l7.78-7.78 2.81-2.81c.8-.78.8-2.07 0-2.86zM5.41 20L4 18.59l7.72-7.72 1.47 1.35L5.41 20z\"/>\n",
              "  </svg>\n",
              "      </button>\n",
              "      \n",
              "  <style>\n",
              "    .colab-df-container {\n",
              "      display:flex;\n",
              "      flex-wrap:wrap;\n",
              "      gap: 12px;\n",
              "    }\n",
              "\n",
              "    .colab-df-convert {\n",
              "      background-color: #E8F0FE;\n",
              "      border: none;\n",
              "      border-radius: 50%;\n",
              "      cursor: pointer;\n",
              "      display: none;\n",
              "      fill: #1967D2;\n",
              "      height: 32px;\n",
              "      padding: 0 0 0 0;\n",
              "      width: 32px;\n",
              "    }\n",
              "\n",
              "    .colab-df-convert:hover {\n",
              "      background-color: #E2EBFA;\n",
              "      box-shadow: 0px 1px 2px rgba(60, 64, 67, 0.3), 0px 1px 3px 1px rgba(60, 64, 67, 0.15);\n",
              "      fill: #174EA6;\n",
              "    }\n",
              "\n",
              "    [theme=dark] .colab-df-convert {\n",
              "      background-color: #3B4455;\n",
              "      fill: #D2E3FC;\n",
              "    }\n",
              "\n",
              "    [theme=dark] .colab-df-convert:hover {\n",
              "      background-color: #434B5C;\n",
              "      box-shadow: 0px 1px 3px 1px rgba(0, 0, 0, 0.15);\n",
              "      filter: drop-shadow(0px 1px 2px rgba(0, 0, 0, 0.3));\n",
              "      fill: #FFFFFF;\n",
              "    }\n",
              "  </style>\n",
              "\n",
              "      <script>\n",
              "        const buttonEl =\n",
              "          document.querySelector('#df-106359a4-f1e8-457b-b3af-27bd1fded672 button.colab-df-convert');\n",
              "        buttonEl.style.display =\n",
              "          google.colab.kernel.accessAllowed ? 'block' : 'none';\n",
              "\n",
              "        async function convertToInteractive(key) {\n",
              "          const element = document.querySelector('#df-106359a4-f1e8-457b-b3af-27bd1fded672');\n",
              "          const dataTable =\n",
              "            await google.colab.kernel.invokeFunction('convertToInteractive',\n",
              "                                                     [key], {});\n",
              "          if (!dataTable) return;\n",
              "\n",
              "          const docLinkHtml = 'Like what you see? Visit the ' +\n",
              "            '<a target=\"_blank\" href=https://colab.research.google.com/notebooks/data_table.ipynb>data table notebook</a>'\n",
              "            + ' to learn more about interactive tables.';\n",
              "          element.innerHTML = '';\n",
              "          dataTable['output_type'] = 'display_data';\n",
              "          await google.colab.output.renderOutput(dataTable, element);\n",
              "          const docLink = document.createElement('div');\n",
              "          docLink.innerHTML = docLinkHtml;\n",
              "          element.appendChild(docLink);\n",
              "        }\n",
              "      </script>\n",
              "    </div>\n",
              "  </div>\n",
              "  "
            ]
          },
          "metadata": {},
          "execution_count": 32
        }
      ]
    },
    {
      "cell_type": "code",
      "source": [
        "df_metadata['image'] = df_metadata['path'].map(lambda x: np.asarray(Image.open(x).resize((100,75))))"
      ],
      "metadata": {
        "id": "eVcfwOeAR6go"
      },
      "execution_count": 33,
      "outputs": []
    },
    {
      "cell_type": "code",
      "source": [
        "df_metadata.sample(3)"
      ],
      "metadata": {
        "id": "JD8BZVRDSR-t"
      },
      "execution_count": null,
      "outputs": []
    },
    {
      "cell_type": "code",
      "source": [
        "features=df_metadata['image']\n",
        "label=df_metadata['cell_type_idx']"
      ],
      "metadata": {
        "id": "iTTgT2UQUqP3"
      },
      "execution_count": 38,
      "outputs": []
    },
    {
      "cell_type": "code",
      "source": [
        "X_train,X_test,y_train,y_test = train_test_split(features,label,test_size=0.2,random_state=0,stratify=label)"
      ],
      "metadata": {
        "id": "4hmXZ7HiVG_l"
      },
      "execution_count": 57,
      "outputs": []
    },
    {
      "cell_type": "code",
      "source": [
        "X_train = np.asarray(X_train.tolist())\n",
        "X_test = np.asarray(X_test.tolist())\n",
        "y_train = y_train.to_numpy()\n",
        "y_test = y_test.to_numpy()"
      ],
      "metadata": {
        "id": "cmBsNlu8WmVt"
      },
      "execution_count": 58,
      "outputs": []
    },
    {
      "cell_type": "code",
      "source": [
        "X_train.shape"
      ],
      "metadata": {
        "id": "WnJfRugGXje3",
        "outputId": "e1a3bd5e-7ec6-44e5-c367-61de6a6fd6f9",
        "colab": {
          "base_uri": "https://localhost:8080/"
        }
      },
      "execution_count": 59,
      "outputs": [
        {
          "output_type": "execute_result",
          "data": {
            "text/plain": [
              "(8012, 75, 100, 3)"
            ]
          },
          "metadata": {},
          "execution_count": 59
        }
      ]
    },
    {
      "cell_type": "code",
      "source": [
        "x_train_mean = np.mean(X_train)\n",
        "x_train_std = np.std(X_train)\n",
        "\n",
        "X_train = (X_train - x_train_mean) / (x_train_std + 1e-8)\n",
        "X_test = (X_test - x_train_mean) / (x_train_std + 1e-8)"
      ],
      "metadata": {
        "id": "Nq6Dtpz2WWJe"
      },
      "execution_count": 61,
      "outputs": []
    },
    {
      "cell_type": "code",
      "source": [
        "one_hot = OneHotEncoder()\n",
        "y_train = one_hot.fit_transform(y_train.reshape(-1,1)).toarray()\n",
        "y_test  = one_hot.transform(y_test.reshape(-1,1)).toarray()"
      ],
      "metadata": {
        "id": "UgeAIPu7Zh4I"
      },
      "execution_count": 79,
      "outputs": []
    },
    {
      "cell_type": "markdown",
      "source": [
        "## Data Augmentation"
      ],
      "metadata": {
        "id": "nvU_PmCdZtca"
      }
    },
    {
      "cell_type": "code",
      "source": [],
      "metadata": {
        "id": "t2sMAhpsZxCV"
      },
      "execution_count": null,
      "outputs": []
    },
    {
      "cell_type": "markdown",
      "metadata": {
        "id": "9jdGRM_pI1Pl"
      },
      "source": [
        "## Visualize data"
      ]
    },
    {
      "cell_type": "code",
      "execution_count": 11,
      "metadata": {
        "id": "Hq5qmkEII1Pm"
      },
      "outputs": [],
      "source": [
        "df = pd.read_csv('./hmnist_28_28_RGB.csv')"
      ]
    },
    {
      "cell_type": "code",
      "execution_count": 77,
      "metadata": {
        "colab": {
          "base_uri": "https://localhost:8080/",
          "height": 495
        },
        "id": "19Y9F2Z9I1Pp",
        "outputId": "16a2631b-88eb-4e61-ee9d-345e8445f281"
      },
      "outputs": [
        {
          "output_type": "display_data",
          "data": {
            "text/plain": [
              "<Figure size 1200x600 with 10 Axes>"
            ],
            "image/png": "[encoded data removed]"
          },
          "metadata": {}
        }
      ],
      "source": [
        "plt.figure(figsize=(12,6))\n",
        "for i in range(1,11):\n",
        "    plt.subplot(2,5,i)\n",
        "    idx = np.random.randint(0,5000)\n",
        "    plt.imshow(np.array(df)[idx][:-1].reshape(28,28,3), interpolation='nearest')\n",
        "    plt.xlabel(list(classes.keys())[np.array(df)[idx][-1]])"
      ]
    },
    {
      "cell_type": "code",
      "source": [
        "class_weights = compute_class_weight(class_weight='balanced',classes=np.unique(y_train),y=y_train)\n",
        "class_weights = torch.from_numpy(class_weights)"
      ],
      "metadata": {
        "id": "3eD9M9_hkoN1"
      },
      "execution_count": 66,
      "outputs": []
    },
    {
      "cell_type": "markdown",
      "source": [
        "## Data Prepocessing"
      ],
      "metadata": {
        "id": "HABmIU4bK5JX"
      }
    },
    {
      "cell_type": "code",
      "source": [
        "def DataLoader(X_train,y_train,batch_size=64):\n",
        "    \"\"\"Split data into batch\"\"\"\n",
        "    n = X_train.shape[0]\n",
        "    idx = torch.randperm(n)\n",
        "    X_new,y_new = X_train[idx],y_train[idx]\n",
        "    for i in range(0,n,batch_size):\n",
        "        begin,end = i, min(i+batch_size,n)\n",
        "        yield X_new[begin:end],y_new[begin:end]\n",
        "\n",
        "def FitModel(X_train,X_test,y_train,y_test,model,criterion,optimizer,epoch,batch_size):\n",
        "    train_acc_list = []\n",
        "    val_acc_list   = []\n",
        "    for e in range(epoch):\n",
        "        total_loss = 0\n",
        "        for x,y in DataLoader(X_train,y_train,batch_size):\n",
        "            y_pred = model.forward(x)\n",
        "            loss = criterion(y_pred,y)\n",
        "\n",
        "            optimizer.zero_grad()\n",
        "            loss.backward()\n",
        "            optimizer.step()\n",
        "            total_loss+=loss.detach().item()\n",
        "            # print(loss.detach().item())\n",
        "        total_loss /= int(X_train.shape[0] / batch_size)\n",
        "        with torch.no_grad():\n",
        "            y_train_pred = model.forward(X_train)\n",
        "            y_test_pred  = model.forward(X_test)\n",
        "            train_acc = torch.mean((torch.argmax(y_train_pred,dim=1)==torch.argmax(y_train,dim=1)) * 1.0)\n",
        "            val_acc   = torch.mean((torch.argmax(y_test_pred,dim=1)==torch.argmax(y_test,dim=1)) * 1.0)\n",
        "            print(f'EPOCH {e:>5} | LOSS: {total_loss:.4f} | TRAIN ACC: {train_acc* 100:.2f}% | VAL ACC: {val_acc*100:.2f}% |')\n",
        "    \n",
        "    Plot(train_acc_list,val_acc_list)\n",
        "\n",
        "def Plot(train_acc_list,train_val_list):\n",
        "    pass"
      ],
      "metadata": {
        "id": "m70t0awZKgen"
      },
      "execution_count": null,
      "outputs": []
    },
    {
      "cell_type": "markdown",
      "metadata": {
        "id": "mTnFmm-CI1Pq"
      },
      "source": [
        "## ANN"
      ]
    },
    {
      "cell_type": "code",
      "execution_count": null,
      "metadata": {
        "id": "W9Q-j3Y3I1Pq"
      },
      "outputs": [],
      "source": [
        "ann_model = nn.Sequential(\n",
        "    nn.Linear(28*28*3,128),\n",
        "    nn.ReLU(),\n",
        "    nn.Linear(128,256),\n",
        "    nn.ReLU(),\n",
        "    nn.Linear(256,256),\n",
        "    nn.ReLU(),\n",
        "    nn.Linear(256,7)\n",
        ")\n",
        "optimizer2 = torch.optim.Adam(ann_model.parameters(),lr=1e-3)\n",
        "criterion2 = torch.nn.CrossEntropyLoss(weight=class_weights)"
      ]
    },
    {
      "cell_type": "code",
      "execution_count": null,
      "metadata": {
        "id": "TFeqaOsTI1Pr"
      },
      "outputs": [],
      "source": [
        "# FitModel(X_train,X_test,y_train,y_test,\n",
        "#          model=ann_model,\n",
        "#          criterion=criterion2,\n",
        "#          optimizer=optimizer2,\n",
        "#          epoch=20,\n",
        "#          batch_size=64)"
      ]
    },
    {
      "cell_type": "markdown",
      "metadata": {
        "id": "5OA22yZVI1Pr"
      },
      "source": [
        "## CNN"
      ]
    },
    {
      "cell_type": "code",
      "execution_count": null,
      "metadata": {
        "id": "jM5uGJM-I1Ps"
      },
      "outputs": [],
      "source": [
        "cnn_model = nn.Sequential(\n",
        "    nn.Conv2d(in_channels=3,out_channels=16,kernel_size=(3,3)),\n",
        "    nn.ReLU(),\n",
        "    nn.Conv2d(in_channels=16,out_channels=32,kernel_size=(3,3)),\n",
        "    nn.ReLU(),\n",
        "    nn.MaxPool2d(2,2),\n",
        "    nn.Dropout(p=0.5),\n",
        "    nn.Conv2d(in_channels=32,out_channels=32,kernel_size=(3,3)),\n",
        "    nn.ReLU(),\n",
        "    nn.Conv2d(in_channels=32,out_channels=64,kernel_size=(3,3)),\n",
        "    nn.ReLU(),\n",
        "    nn.MaxPool2d(2,2),\n",
        "    nn.Dropout(p=0.5),\n",
        "    nn.Flatten(1),\n",
        "    nn.Linear(1024,64),\n",
        "    nn.ReLU(),\n",
        "    nn.Linear(64,32),\n",
        "    nn.ReLU(),\n",
        "    nn.Dropout(p=0.5),\n",
        "    nn.Linear(32,7)\n",
        "\n",
        "\n",
        "\n",
        ")\n",
        "optimizer = torch.optim.Adam(cnn_model.parameters(),lr=2.5e-4)\n",
        "criterion = torch.nn.CrossEntropyLoss(weight=class_weights)\n"
      ]
    },
    {
      "cell_type": "code",
      "execution_count": null,
      "metadata": {
        "colab": {
          "base_uri": "https://localhost:8080/"
        },
        "id": "NDjgmE3SI1Ps",
        "outputId": "ee8ed5fb-4339-4a99-d5aa-c93df843bc61"
      },
      "outputs": [
        {
          "output_type": "stream",
          "name": "stdout",
          "text": [
            "EPOCH     0 | LOSS: 1.9408 | TRAIN ACC: 2.92% | VAL ACC: 3.39% |\n",
            "EPOCH     1 | LOSS: 1.9217 | TRAIN ACC: 55.67% | VAL ACC: 54.67% |\n",
            "EPOCH     2 | LOSS: 1.8588 | TRAIN ACC: 41.65% | VAL ACC: 41.74% |\n",
            "EPOCH     3 | LOSS: 1.8239 | TRAIN ACC: 41.49% | VAL ACC: 41.74% |\n",
            "EPOCH     4 | LOSS: 1.8053 | TRAIN ACC: 30.82% | VAL ACC: 32.35% |\n",
            "EPOCH     5 | LOSS: 1.7951 | TRAIN ACC: 44.23% | VAL ACC: 44.63% |\n",
            "EPOCH     6 | LOSS: 1.7913 | TRAIN ACC: 35.50% | VAL ACC: 34.95% |\n",
            "EPOCH     7 | LOSS: 1.7687 | TRAIN ACC: 41.60% | VAL ACC: 41.59% |\n",
            "EPOCH     8 | LOSS: 1.7456 | TRAIN ACC: 46.42% | VAL ACC: 46.03% |\n",
            "EPOCH     9 | LOSS: 1.7282 | TRAIN ACC: 47.63% | VAL ACC: 46.88% |\n",
            "EPOCH    10 | LOSS: 1.7114 | TRAIN ACC: 42.75% | VAL ACC: 43.33% |\n"
          ]
        }
      ],
      "source": [
        "FitModel(X_train.view(-1,3,28,28),X_test.view(-1,3,28,28),y_train,y_test,\n",
        "         model=cnn_model,\n",
        "         criterion=criterion,\n",
        "         optimizer=optimizer,\n",
        "         epoch=100,\n",
        "         batch_size=32)"
      ]
    },
    {
      "cell_type": "code",
      "execution_count": null,
      "metadata": {
        "id": "NSyuxKOOI1Ps"
      },
      "outputs": [],
      "source": []
    }
  ],
  "metadata": {
    "kernelspec": {
      "display_name": "pytorchenv",
      "language": "python",
      "name": "python3"
    },
    "language_info": {
      "codemirror_mode": {
        "name": "ipython",
        "version": 3
      },
      "file_extension": ".py",
      "mimetype": "text/x-python",
      "name": "python",
      "nbconvert_exporter": "python",
      "pygments_lexer": "ipython3",
      "version": "3.8.16"
    },
    "orig_nbformat": 4,
    "colab": {
      "provenance": [],
      "include_colab_link": true
    }
  },
  "nbformat": 4,
  "nbformat_minor": 0
}